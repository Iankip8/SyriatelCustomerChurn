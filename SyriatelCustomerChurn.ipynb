{
 "cells": [
  {
   "cell_type": "markdown",
   "id": "34d9cdd6-abd6-4c86-82a7-b0c46cbfcb97",
   "metadata": {},
   "source": [
    "- Student name: Ian Kiptoo\n",
    "- Student pace: Full-time Remote\n",
    "- Scheduled project review date/time:\n",
    "- Instructor name: Asha Deen"
   ]
  },
  {
   "cell_type": "markdown",
   "id": "8d0803f6-479d-44b1-9b87-66e15b357ba6",
   "metadata": {},
   "source": [
    "## 1. Bussiness Understanding"
   ]
  },
  {
   "cell_type": "markdown",
   "id": "e7cb08c0-2902-4a72-b0aa-07c266c67e8c",
   "metadata": {},
   "source": [
    "# Project Overview\n",
    "\n",
    "In the highly competitive telecommunications market, Syriatel faces the critical challenge of retaining its customer base while ensuring high levels of satisfaction. The company struggles with identifying at-risk customers who might churn and addressing their issues proactively. This problem is compounded by the need to offer personalized services and maintain optimal network performance, all while adapting to ever-evolving customer needs and preferences. Without effective data analytics and machine learning techniques, Syriatel risks losing market share and falling behind competitors who are more adept at leveraging these technologies to enhance customer experiences and loyalty.\n",
    "\n",
    "\n",
    "## Introduction\n",
    "\n",
    "Syriatel (Arabic: سيريتل) is a prominent mobile network provider in Syria. Alongside MTN Syria, it has been a key player in the country's telecommunications landscape. In 2022, the Syrian telecommunications authority awarded a third telecom license to Wafa Telecom, introducing new competition into the market. Syriatel offers LTE services with speeds up to 150 Mb/s under the brand name Super Surf. In this increasingly competitive environment, it is imperative for Syriatel to continuously adapt and enhance its services to remain competitive and provide outstanding customer experiences.\n",
    "\n",
    "## Stakeholders\n",
    "\n",
    "The success of the project is intrinsically tied to the satisfaction of a diverse set of stakeholders:\n",
    "\n",
    "- **Syriatel Executives**: Leadership needs to maintain and expand their customer base, ensuring the long-term growth and sustainability of the company.\n",
    "- **Syriatel Marketing Team**: The marketing department aims to increase customer acquisition, engagement, and the delivery of targeted promotions.\n",
    "- **Syriatel Customer Support Team**: The customer support team seeks to provide efficient and effective customer service, resolving issues, and improving overall customer satisfaction.\n",
    "- **Syriatel Customers**: The end-users, who expect reliable, affordable, and innovative telecommunications services.\n",
    "\n",
    "## Business Problem\n",
    "\n",
    "This project primarily focuses on addressing customer churn and improving customer satisfaction for Syriatel. We will leverage data analytics and machine learning techniques to gain insights into customer behavior, preferences, and needs. Recommendations and strategies will be developed to mitigate customer churn and improve customer experiences.\n",
    "\n",
    "Customer churn (the loss of customers to competition) presents a significant challenge for telecom companies like Syriatel because it is more expensive to acquire a new customer than to retain an existing one. Most telecom companies suffer from voluntary churn, which has a strong impact on the lifetime value of a customer by affecting both the length of service and future revenue. For instance, a company with a 25% churn rate has an average customer lifetime of four years, while a company with a 50% churn rate has an average customer lifetime of only two years. It is estimated that 75 percent of the 17 to 20 million subscribers signing up with a new wireless carrier every year are coming from another wireless provider, indicating a high rate of churn. Telecom companies invest substantial resources to acquire new customers, and when a customer leaves, the company not only loses future revenue but also the resources spent on acquisition. This erosion of profitability underscores the importance of mitigating churn.\n",
    "\n",
    "By implementing advanced data analytics and machine learning techniques, Syriatel can develop effective strategies to identify at-risk customers, understand their reasons for potential departure, and deploy targeted interventions to retain them. These efforts will not only reduce churn but also enhance overall customer satisfaction and loyalty, thereby contributing to Syriatel’s long-term success and competitive edge.\n"
   ]
  }
 ],
 "metadata": {
  "kernelspec": {
   "display_name": "Python 3 (ipykernel)",
   "language": "python",
   "name": "python3"
  },
  "language_info": {
   "codemirror_mode": {
    "name": "ipython",
    "version": 3
   },
   "file_extension": ".py",
   "mimetype": "text/x-python",
   "name": "python",
   "nbconvert_exporter": "python",
   "pygments_lexer": "ipython3",
   "version": "3.11.7"
  }
 },
 "nbformat": 4,
 "nbformat_minor": 5
}
